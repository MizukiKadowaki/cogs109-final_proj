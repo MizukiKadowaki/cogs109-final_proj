{
 "cells": [
  {
   "cell_type": "markdown",
   "metadata": {},
   "source": [
    "# COGS 109 Final Project Writeup\n",
    "## Mizuki Kadowaki"
   ]
  },
  {
   "cell_type": "markdown",
   "metadata": {},
   "source": [
    "# Background\n",
    "\n",
    "## Research Question\n",
    "Which descriptive variables about a building can best predict the final sale price of the building after construction?\n",
    "\n",
    "There are many cases that buildings undergo construction before hitting the market to be sold, in hopes of raising the prices. I wanted to see which factors of a building are the most influential when predicting the final price of a building. This way, a building owner can get a rough idea of how much a building will sell for and whether the construction price would be worth it. \n",
    "\n",
    "I hopothesize that the price of the building will be the most influential variable in a univariate analysis. Adding different factors such as the estimate construction cost or size of the building will improve the performance of the model. \n",
    "\n",
    "## Dataset Decription: \n",
    "Dataset - UJIIndoorLoc Data Set (UCI database)\n",
    "https://archive.ics.uci.edu/ml/datasets/UJIIndoorLoc#\n",
    "- Number of instances: 21048\n",
    "- Number of attributes: 529\n",
    "\n",
    "This dataset describes the construction process for different buildings. These include variables about the location of the building, as well as the physical descriptive variables of the construction project itself. I would like to use some of these variables to predict the financial values (labels) \n",
    "\n",
    "The UJIIndoorLoc is a Multi-Building Multi-Floor indoor localization database to test Indoor Positioning System that rely on WLAN/WiFi fingerprint. Other analyses previously done on this dataset mainly focus on WIFI, GPS signals and how the longitude and latitude of the building can be predicted by the Wifi Fingerprint of a building. I will be focusing on the construction of the buildings (only physical and financial variables) \n",
    "\n",
    "### Project Physical and Financial Variables\n",
    "- Project Locality defined in terms of zip codes\n",
    "- Total floor area of the building \n",
    "- Lot area\n",
    "- Preliminary estimated construction cost based on the prices at the beginning of the project\n",
    "- Equivalent preliminary estimated construction cost based on the prices at the beginning of the project in a selected base year (1383)\n",
    "- Duration of construction\n",
    "- Price of the unit at the beginning of the project per m^2\n",
    "- Actual sales prices (output label)\n",
    "- Actual Construction costs (output label) \n",
    "\n",
    "In order to answer my question, I will be using Actual sales prices as my output (Y label). \n",
    "I want my model to be useful for the decision making process for building owners on whether to start construction or not. Because of this, I will only be inluding variable values that can be determined before construction begins."
   ]
  },
  {
   "cell_type": "markdown",
   "metadata": {},
   "source": [
    "## Setup"
   ]
  },
  {
   "cell_type": "code",
   "execution_count": 444,
   "metadata": {},
   "outputs": [],
   "source": [
    "import pandas as pd\n",
    "import altair as alt\n",
    "import numpy as np\n",
    "import matplotlib.pyplot as plt"
   ]
  },
  {
   "cell_type": "code",
   "execution_count": 445,
   "metadata": {},
   "outputs": [],
   "source": [
    "# Import Datasets\n",
    "xls = pd.ExcelFile(\"Residential-Building-Data-Set.xlsx\")\n",
    "df1 = pd.read_excel(xls, 'Data')\n",
    "df2 = pd.read_excel(xls, 'Descriptions')"
   ]
  },
  {
   "cell_type": "markdown",
   "metadata": {},
   "source": [
    "## Cleaning"
   ]
  },
  {
   "cell_type": "code",
   "execution_count": 446,
   "metadata": {},
   "outputs": [],
   "source": [
    "# Setting First row as Col names\n",
    "df1.columns = df1.iloc[0]\n",
    "df1 = df1.drop(df1.index[0])"
   ]
  },
  {
   "cell_type": "markdown",
   "metadata": {},
   "source": [
    "### Project Physical and Financial Variables\n",
    "I will not be using all of the variables. \n",
    "\n",
    "Out of the Project Physical & Financial Variables listed above, I will exclude variables that can not be determined before construction begins.\n",
    "- Duration of construction\n",
    "- Actual Construction costs (output label) \n",
    "\n",
    "I will also exclude variables that are not continuous or quantitative \n",
    "- Project Locality defined in terms of zip codes\n",
    "\n",
    "### Final Kept Variables\n",
    "\n",
    "| Kept Input Variable | Description|\n",
    "| --- | --- |\n",
    "| V-2 | Total Floor Area of the Building |\n",
    "| V-3 | Lot Area |\n",
    "| V-5 | Preliminary estimated construction cost|\n",
    "| V-6 | Preliminary estimated construction cost (adjusted to base year:1383)|\n",
    "| V-8 | Price of the unit at the beginning of the project|\n",
    "\n",
    "\n",
    "\n",
    "\n",
    "| Kept Output Variable | Description|\n",
    "| --- | --- |\n",
    "| V-9 | Actual sales prices (output)|"
   ]
  },
  {
   "cell_type": "code",
   "execution_count": 447,
   "metadata": {},
   "outputs": [],
   "source": [
    "# variables I am interested in predicting\n",
    "outputs = [\"V-9\"]\n",
    "# variables I am interested in using for predictions\n",
    "## I have included completion year for EDA. I will not use it in my lin regression. \n",
    "inputs = [\"COMPLETION YEAR\", \"V-2\", \"V-3\", \"V-5\", \"V-6\", \"V-8\"]\n"
   ]
  },
  {
   "cell_type": "code",
   "execution_count": 448,
   "metadata": {},
   "outputs": [],
   "source": [
    "# keep only columns in input and output variables\n",
    "df = df1[inputs + outputs]"
   ]
  },
  {
   "cell_type": "code",
   "execution_count": 449,
   "metadata": {},
   "outputs": [],
   "source": [
    "# rename columns to more coding friendly names\n",
    "df = df.rename(columns = {\"COMPLETION YEAR\": \"compl_yr\"\n",
    "                     , \"V-2\": \"floor_area\"\n",
    "                     , \"V-3\": \"lot_area\"\n",
    "                     , \"V-5\": \"estimate_price\"\n",
    "                     , \"V-6\": \"estimate_price_adj\"\n",
    "                     , \"V-8\": \"orig_price\"\n",
    "                     , \"V-9\": \"final_price\"})"
   ]
  },
  {
   "cell_type": "code",
   "execution_count": 450,
   "metadata": {},
   "outputs": [
    {
     "data": {
      "text/html": [
       "<div>\n",
       "<style scoped>\n",
       "    .dataframe tbody tr th:only-of-type {\n",
       "        vertical-align: middle;\n",
       "    }\n",
       "\n",
       "    .dataframe tbody tr th {\n",
       "        vertical-align: top;\n",
       "    }\n",
       "\n",
       "    .dataframe thead th {\n",
       "        text-align: right;\n",
       "    }\n",
       "</style>\n",
       "<table border=\"1\" class=\"dataframe\">\n",
       "  <thead>\n",
       "    <tr style=\"text-align: right;\">\n",
       "      <th></th>\n",
       "      <th>compl_yr</th>\n",
       "      <th>floor_area</th>\n",
       "      <th>lot_area</th>\n",
       "      <th>estimate_price</th>\n",
       "      <th>estimate_price_adj</th>\n",
       "      <th>orig_price</th>\n",
       "      <th>final_price</th>\n",
       "    </tr>\n",
       "  </thead>\n",
       "  <tbody>\n",
       "    <tr>\n",
       "      <td>count</td>\n",
       "      <td>372.000000</td>\n",
       "      <td>372.000000</td>\n",
       "      <td>372.000000</td>\n",
       "      <td>372.000000</td>\n",
       "      <td>372.000000</td>\n",
       "      <td>372.000000</td>\n",
       "      <td>372.000000</td>\n",
       "    </tr>\n",
       "    <tr>\n",
       "      <td>mean</td>\n",
       "      <td>82.951613</td>\n",
       "      <td>1729.044355</td>\n",
       "      <td>426.114247</td>\n",
       "      <td>163.118280</td>\n",
       "      <td>554.419839</td>\n",
       "      <td>1088.118280</td>\n",
       "      <td>1387.432796</td>\n",
       "    </tr>\n",
       "    <tr>\n",
       "      <td>std</td>\n",
       "      <td>4.223898</td>\n",
       "      <td>1802.371491</td>\n",
       "      <td>490.076498</td>\n",
       "      <td>112.604343</td>\n",
       "      <td>275.105953</td>\n",
       "      <td>995.826172</td>\n",
       "      <td>1206.083047</td>\n",
       "    </tr>\n",
       "    <tr>\n",
       "      <td>min</td>\n",
       "      <td>73.000000</td>\n",
       "      <td>200.000000</td>\n",
       "      <td>60.000000</td>\n",
       "      <td>10.000000</td>\n",
       "      <td>193.080000</td>\n",
       "      <td>40.000000</td>\n",
       "      <td>50.000000</td>\n",
       "    </tr>\n",
       "    <tr>\n",
       "      <td>25%</td>\n",
       "      <td>80.000000</td>\n",
       "      <td>720.000000</td>\n",
       "      <td>190.000000</td>\n",
       "      <td>80.000000</td>\n",
       "      <td>391.677500</td>\n",
       "      <td>440.000000</td>\n",
       "      <td>577.500000</td>\n",
       "    </tr>\n",
       "    <tr>\n",
       "      <td>50%</td>\n",
       "      <td>84.000000</td>\n",
       "      <td>1220.000000</td>\n",
       "      <td>300.000000</td>\n",
       "      <td>140.000000</td>\n",
       "      <td>522.455000</td>\n",
       "      <td>805.000000</td>\n",
       "      <td>1000.000000</td>\n",
       "    </tr>\n",
       "    <tr>\n",
       "      <td>75%</td>\n",
       "      <td>87.000000</td>\n",
       "      <td>2100.000000</td>\n",
       "      <td>490.500000</td>\n",
       "      <td>230.000000</td>\n",
       "      <td>667.905000</td>\n",
       "      <td>1300.000000</td>\n",
       "      <td>1700.000000</td>\n",
       "    </tr>\n",
       "    <tr>\n",
       "      <td>max</td>\n",
       "      <td>90.000000</td>\n",
       "      <td>15670.000000</td>\n",
       "      <td>5000.000000</td>\n",
       "      <td>640.000000</td>\n",
       "      <td>3436.930000</td>\n",
       "      <td>5700.000000</td>\n",
       "      <td>6800.000000</td>\n",
       "    </tr>\n",
       "  </tbody>\n",
       "</table>\n",
       "</div>"
      ],
      "text/plain": [
       "0        compl_yr    floor_area     lot_area  estimate_price  \\\n",
       "count  372.000000    372.000000   372.000000      372.000000   \n",
       "mean    82.951613   1729.044355   426.114247      163.118280   \n",
       "std      4.223898   1802.371491   490.076498      112.604343   \n",
       "min     73.000000    200.000000    60.000000       10.000000   \n",
       "25%     80.000000    720.000000   190.000000       80.000000   \n",
       "50%     84.000000   1220.000000   300.000000      140.000000   \n",
       "75%     87.000000   2100.000000   490.500000      230.000000   \n",
       "max     90.000000  15670.000000  5000.000000      640.000000   \n",
       "\n",
       "0      estimate_price_adj   orig_price  final_price  \n",
       "count          372.000000   372.000000   372.000000  \n",
       "mean           554.419839  1088.118280  1387.432796  \n",
       "std            275.105953   995.826172  1206.083047  \n",
       "min            193.080000    40.000000    50.000000  \n",
       "25%            391.677500   440.000000   577.500000  \n",
       "50%            522.455000   805.000000  1000.000000  \n",
       "75%            667.905000  1300.000000  1700.000000  \n",
       "max           3436.930000  5700.000000  6800.000000  "
      ]
     },
     "execution_count": 450,
     "metadata": {},
     "output_type": "execute_result"
    }
   ],
   "source": [
    "# convert all value types into numeric (originally string)\n",
    "df.dtypes\n",
    "df = df.apply(pd.to_numeric)\n",
    "\n",
    "# final cleaned dataset\n",
    "df.head()\n",
    "df.describe()"
   ]
  },
  {
   "cell_type": "markdown",
   "metadata": {},
   "source": [
    "## Methods\n",
    "\n",
    "### Exploratory Data Analysis \n",
    "I used different methods of data visualization to get a better understanding of my dataset and variables. This includes scatter plots and histograms. \n",
    "\n",
    "### Linear Regression \n",
    "I chose to use linear regression because my project involves supervised learning and has labeled, continuous in both the inputs and output. Linear regression is modeling the relationship between multiple variables by finding the equation of a line of best fit. \n",
    "\n",
    "### Cross Validation\n",
    "I have decided to use cross validation with linear regression. Cross Validation is the act of splitting data into a training and testing sets. I will be using a ratio of 80:20, training:testing. Evaluating the linear regression model on both the training and testing datasets will prevent against overfitting to the training data, as this will reflect on the performance of the testing dataset. \n",
    "\n",
    "### Evaluation of the Model - RMSE \n",
    "Root Mean Square Error (RMSE) is the standard deviation of the sum of all of the prediction errors. Therefore, it is able to capture the spread of the residuals and how closely concentrated the data is around the regression line. This is why I will be using this as my evaluation method for my regression models. "
   ]
  },
  {
   "cell_type": "markdown",
   "metadata": {},
   "source": [
    "## EDA"
   ]
  },
  {
   "cell_type": "markdown",
   "metadata": {},
   "source": [
    "#### Floor area vs. Lot Area\n",
    "I wanted to first explore the differnece between floor area and lot area. Lot Area is the total area of the property. Floor area is the area of the building itself, that can be occupied. \n",
    "\n",
    "From the graph below, we can see that for almost all of the buildings, the floor area is far larger than the lot area. This indicates that most of these buildings are multiple stories and have very little property space outside of the building itself. "
   ]
  },
  {
   "cell_type": "code",
   "execution_count": 451,
   "metadata": {},
   "outputs": [
    {
     "data": {
      "text/plain": [
       "Text(0, 0.5, 'Lot Area')"
      ]
     },
     "execution_count": 451,
     "metadata": {},
     "output_type": "execute_result"
    },
    {
     "data": {
      "image/png": "[encoded data removed]",
      "text/plain": [
       "<Figure size 432x288 with 1 Axes>"
      ]
     },
     "metadata": {
      "needs_background": "light"
     },
     "output_type": "display_data"
    }
   ],
   "source": [
    "plt.scatter(df[\"floor_area\"], df[\"lot_area\"])\n",
    "plt.suptitle(\"Floor Area vs. Lot Area\")\n",
    "plt.xlabel(\"Floor Area\")\n",
    "plt.ylabel(\"Lot Area\")"
   ]
  },
  {
   "cell_type": "markdown",
   "metadata": {},
   "source": [
    "#### Should Estimate price or adjusted estimate price be used?\n",
    "Below is a histogram of the year of completion for these buildings. As it is temporal data, I will not be using this as a predictive variable. However, I wanted to see the distribution of Completion year to see if there is a concern of the money value and wheather final prices should be adjusted. "
   ]
  },
  {
   "cell_type": "code",
   "execution_count": 452,
   "metadata": {},
   "outputs": [
    {
     "data": {
      "text/plain": [
       "Text(0.5, 0.98, 'Distribution of Completion Year')"
      ]
     },
     "execution_count": 452,
     "metadata": {},
     "output_type": "execute_result"
    },
    {
     "data": {
      "image/png": "[encoded data removed]",
      "text/plain": [
       "<Figure size 432x288 with 1 Axes>"
      ]
     },
     "metadata": {
      "needs_background": "light"
     },
     "output_type": "display_data"
    }
   ],
   "source": [
    "df[\"compl_yr\"].hist()\n",
    "plt.suptitle(\"Distribution of Completion Year\")"
   ]
  },
  {
   "cell_type": "markdown",
   "metadata": {},
   "source": [
    "We can see that the range of years is around 20 years. My first instinct was that this is not long enough of a time span to where the value of money changes significantly. However, I wanted to look further into this and decided to plot the estimated price of construction and the estimated price adusted to a base year (both of which are provided in the dataset). "
   ]
  },
  {
   "cell_type": "code",
   "execution_count": 453,
   "metadata": {},
   "outputs": [
    {
     "data": {
      "text/plain": [
       "Text(0.5, 0.98, 'Estimated Construction cost vs. Estimated Construction cost adjusted to base year')"
      ]
     },
     "execution_count": 453,
     "metadata": {},
     "output_type": "execute_result"
    },
    {
     "data": {
      "image/png": "[encoded data removed]",
      "text/plain": [
       "<Figure size 432x288 with 1 Axes>"
      ]
     },
     "metadata": {
      "needs_background": "light"
     },
     "output_type": "display_data"
    }
   ],
   "source": [
    "plt.scatter(df[\"estimate_price\"], df[\"estimate_price_adj\"]) \n",
    "plt.suptitle(\"Estimated Construction cost vs. Estimated Construction cost adjusted to base year\")"
   ]
  },
  {
   "cell_type": "markdown",
   "metadata": {},
   "source": [
    "We can see that the relationship between these two variables are not linear, meaning that we have to be strategic about which variable to choose. \n",
    "There seems to be much more variability in the cost adjusted to base year. "
   ]
  },
  {
   "cell_type": "code",
   "execution_count": 454,
   "metadata": {},
   "outputs": [
    {
     "data": {
      "image/png": "[encoded data removed]",
      "text/plain": [
       "<Figure size 1152x288 with 2 Axes>"
      ]
     },
     "metadata": {
      "needs_background": "light"
     },
     "output_type": "display_data"
    }
   ],
   "source": [
    "fig, (ax1, ax2) = plt.subplots(1,2)\n",
    "fig.set_size_inches(16, 4)\n",
    "fig.suptitle('Preliminary estimated construction cost')\n",
    "ax1.hist(df[\"estimate_price\"])\n",
    "ax1.title.set_text('Not Adjusted')\n",
    "ax2.hist(df[\"estimate_price_adj\"])\n",
    "ax2.title.set_text('Adjusted to base year (1383)')"
   ]
  },
  {
   "cell_type": "markdown",
   "metadata": {},
   "source": [
    "By plotting both of these variables separately in histograms, it is evident that the adjusted version has much more variability and several values that could be classified as outliers. Because the dataset provided the Actual construction cost, I wanted to see how each related to the final cost and whether there would be a visible relationship. "
   ]
  },
  {
   "cell_type": "code",
   "execution_count": 455,
   "metadata": {},
   "outputs": [
    {
     "data": {
      "image/png": "[encoded data removed]",
      "text/plain": [
       "<Figure size 1152x288 with 2 Axes>"
      ]
     },
     "metadata": {
      "needs_background": "light"
     },
     "output_type": "display_data"
    }
   ],
   "source": [
    "fig, (ax1, ax2) = plt.subplots(1,2)\n",
    "fig.set_size_inches(16, 4)\n",
    "fig.suptitle('Preliminary estimated construction cost vs. Actual Construction Cost ')\n",
    "ax1.scatter(df[\"estimate_price\"], df1[\"V-10\"])\n",
    "ax1.title.set_text('Not Adjusted')\n",
    "ax2.scatter(df[\"estimate_price_adj\"], df1[\"V-10\"])\n",
    "ax2.title.set_text('Adjusted to base year (1383)')"
   ]
  },
  {
   "cell_type": "markdown",
   "metadata": {},
   "source": [
    "From this, we can clearly see that the non-adjusted estimated construction cost is more closely related to the actual final construction cost. Although this may be because the final construction cost is not adjusted to the base year, this leads me to believe that the non-adjusted estimated prices are a much better indicator or predictor of the final price of the property. "
   ]
  },
  {
   "cell_type": "markdown",
   "metadata": {},
   "source": [
    "## Univariate Regression\n",
    "As I will be creating multiple different univariate regression models, I decided to make a method to eliminate repeated code. This univ_reg method takes in the predictive column name and returns a list including [w[0], w[1], mtrain_rmse, mtest_rmse]"
   ]
  },
  {
   "cell_type": "code",
   "execution_count": 456,
   "metadata": {},
   "outputs": [],
   "source": [
    "# 80% training data\n",
    "cross_val_split = 0.8\n",
    "\n",
    "def univ_reg(input):\n",
    "    X = np.array(df[input]).reshape(len(df), 1)\n",
    "    Y = np.array(df[\"final_price\"]).reshape(len(X), 1)\n",
    "    ones = np.array([1]*len(X)).reshape(len(X), 1)\n",
    "    A = np.append(ones, X, axis = 1)\n",
    "    A = np.append(A, Y, axis = 1)\n",
    "\n",
    "    # shuffle and split\n",
    "    np.random.shuffle(A)\n",
    "    train_split = int(len(A)*cross_val_split)\n",
    "    m_train = A[:train_split]\n",
    "    m_test = A[train_split:]\n",
    "\n",
    "    # linear regression\n",
    "    m_A = m_train[:,:2]\n",
    "    m_Y = m_train[:, 2]\n",
    "    w = np.linalg.lstsq(m_A, m_Y, rcond=None)[0]\n",
    "    print(\"final_price = \" + str(w[0])+ \" + \" + str(w[1])+ \" * \" + str(input) )\n",
    "\n",
    "    # M2_train\n",
    "    mtrain_yhat = m_train[:,1]*w[1]+w[0]\n",
    "    mtrain_sse = np.sum((m_train[:,2] - mtrain_yhat)**2)\n",
    "    mtrain_mse = mtrain_sse / len(m_train)\n",
    "    mtrain_rmse = np.sqrt(mtrain_mse)\n",
    "\n",
    "    # M2_test\n",
    "    mtest_yhat = m_test[:,1]*w[1]+w[0]\n",
    "    mtest_sse = np.sum((m_test[:, 2] - mtest_yhat)**2)\n",
    "    mtest_mse = mtest_sse / len(m_test)\n",
    "    mtest_rmse = np.sqrt(mtest_mse) \n",
    "\n",
    "#     print(\"RMSE Train: \" + str(mtrain_rmse))\n",
    "#     print(\"RMSE Test: \" + str(mtest_rmse))\n",
    "    \n",
    "    return [w[0], w[1], mtrain_rmse, mtest_rmse]"
   ]
  },
  {
   "cell_type": "markdown",
   "metadata": {},
   "source": [
    "Running linear regression on every variable that we are interested in by applying it to the method above. "
   ]
  },
  {
   "cell_type": "code",
   "execution_count": 457,
   "metadata": {},
   "outputs": [
    {
     "name": "stdout",
     "output_type": "stream",
     "text": [
      "final_price = 1084.9458870571077 + 0.16785240500596252 * floor_area\n",
      "final_price = 1237.0338629794817 + 0.32328414045850223 * lot_area\n",
      "final_price = 3.774100411146372 + 8.694173050390443 * estimate_price\n",
      "final_price = 956.1886428166473 + 0.8801125305856853 * estimate_price_adj\n",
      "final_price = 113.88901499099282 + 1.1642065287873546 * orig_price\n"
     ]
    },
    {
     "data": {
      "text/html": [
       "<div>\n",
       "<style scoped>\n",
       "    .dataframe tbody tr th:only-of-type {\n",
       "        vertical-align: middle;\n",
       "    }\n",
       "\n",
       "    .dataframe tbody tr th {\n",
       "        vertical-align: top;\n",
       "    }\n",
       "\n",
       "    .dataframe thead th {\n",
       "        text-align: right;\n",
       "    }\n",
       "</style>\n",
       "<table border=\"1\" class=\"dataframe\">\n",
       "  <thead>\n",
       "    <tr style=\"text-align: right;\">\n",
       "      <th></th>\n",
       "      <th>w[0]</th>\n",
       "      <th>w[1]</th>\n",
       "      <th>train_rmse</th>\n",
       "      <th>test_rmse</th>\n",
       "    </tr>\n",
       "  </thead>\n",
       "  <tbody>\n",
       "    <tr>\n",
       "      <td>floor_area</td>\n",
       "      <td>1084.945887</td>\n",
       "      <td>0.167852</td>\n",
       "      <td>1175.236178</td>\n",
       "      <td>1123.166171</td>\n",
       "    </tr>\n",
       "    <tr>\n",
       "      <td>lot_area</td>\n",
       "      <td>1237.033863</td>\n",
       "      <td>0.323284</td>\n",
       "      <td>1164.523949</td>\n",
       "      <td>1281.080540</td>\n",
       "    </tr>\n",
       "    <tr>\n",
       "      <td>estimate_price</td>\n",
       "      <td>3.774100</td>\n",
       "      <td>8.694173</td>\n",
       "      <td>762.232810</td>\n",
       "      <td>686.983914</td>\n",
       "    </tr>\n",
       "    <tr>\n",
       "      <td>estimate_price_adj</td>\n",
       "      <td>956.188643</td>\n",
       "      <td>0.880113</td>\n",
       "      <td>1242.537774</td>\n",
       "      <td>912.481457</td>\n",
       "    </tr>\n",
       "    <tr>\n",
       "      <td>orig_price</td>\n",
       "      <td>113.889015</td>\n",
       "      <td>1.164207</td>\n",
       "      <td>268.543934</td>\n",
       "      <td>226.907694</td>\n",
       "    </tr>\n",
       "  </tbody>\n",
       "</table>\n",
       "</div>"
      ],
      "text/plain": [
       "                           w[0]      w[1]   train_rmse    test_rmse\n",
       "floor_area          1084.945887  0.167852  1175.236178  1123.166171\n",
       "lot_area            1237.033863  0.323284  1164.523949  1281.080540\n",
       "estimate_price         3.774100  8.694173   762.232810   686.983914\n",
       "estimate_price_adj   956.188643  0.880113  1242.537774   912.481457\n",
       "orig_price           113.889015  1.164207   268.543934   226.907694"
      ]
     },
     "execution_count": 457,
     "metadata": {},
     "output_type": "execute_result"
    }
   ],
   "source": [
    "df.columns.to_list()[1:-1]\n",
    "col_names = ['w[0]', 'w[1]', 'train_rmse', 'test_rmse']\n",
    "univ_results = pd.DataFrame(columns = col_names)\n",
    "univ_results\n",
    "\n",
    "for i in df.columns.to_list()[1:-1]:\n",
    "    univ_results.loc[i] = pd.Series(univ_reg(i), index = col_names)\n",
    "\n",
    "univ_results\n"
   ]
  },
  {
   "cell_type": "markdown",
   "metadata": {},
   "source": [
    "### Bivariate Regression\n",
    "I did the same for bivariate regression, creating a method that creates a lin regression model from passing 2 variable names."
   ]
  },
  {
   "cell_type": "code",
   "execution_count": 492,
   "metadata": {},
   "outputs": [],
   "source": [
    "# 80% training data\n",
    "cross_val_split = 0.8\n",
    "\n",
    "def bivar_reg(var1, var2):\n",
    "    X = np.array(df[[var1, var2]]).reshape(len(df), 2)\n",
    "    Y = np.array(df[\"final_price\"]).reshape(len(X), 1)\n",
    "    ones = np.array([1]*len(X)).reshape(len(X), 1)\n",
    "    A = np.append(ones, X, axis = 1)\n",
    "    A = np.append(A, Y, axis = 1)\n",
    "\n",
    "    # shuffle and split\n",
    "    np.random.shuffle(A)\n",
    "    train_split = int(len(A)*cross_val_split)\n",
    "    m_train = A[:train_split]\n",
    "    m_test = A[train_split:]\n",
    "\n",
    "    # linear regression\n",
    "    m_A = m_train[:,:3]\n",
    "    m_Y = m_train[:, 3]\n",
    "    w = np.linalg.lstsq(m_A, m_Y, rcond=None)[0]\n",
    "    \n",
    "\n",
    "    # M2_train\n",
    "    mtrain_yhat = m_train[:,2]*w[2]+m_train[:,1]*w[1]+w[0]\n",
    "    mtrain_sse = np.sum((m_train[:,3] - mtrain_yhat)**2)\n",
    "    mtrain_mse = mtrain_sse / len(m_train)\n",
    "    mtrain_rmse = np.sqrt(mtrain_mse)\n",
    "\n",
    "    # M2_test\n",
    "    mtest_yhat = m_test[:,2]*w[2]+m_test[:,1]*w[1]+w[0]\n",
    "    mtest_sse = np.sum((m_test[:,3] - mtest_yhat)**2)\n",
    "    mtest_mse = mtest_sse / len(m_test)\n",
    "    mtest_rmse = np.sqrt(mtest_mse)\n",
    "    \n",
    "    eqtn = (\"final_price = \" + str(w[0]) + \" + \" + str(w[1]) + \" * \" + str(var1) + \" \" + \" + \" + str(w[2]) + \" * \" + str(var2))\n",
    "    rmse_train = (\"RMSE Train: \" + str(mtrain_rmse))\n",
    "    rmse_test = (\"RMSE Test: \" + str(mtest_rmse))\n",
    "    \n",
    "    return eqtn + \"\\n\" + rmse_train  + \"\\n\" + rmse_test\n"
   ]
  },
  {
   "cell_type": "markdown",
   "metadata": {},
   "source": [
    "### Bivariate Regression: Original Price, Estimated Price"
   ]
  },
  {
   "cell_type": "code",
   "execution_count": 493,
   "metadata": {},
   "outputs": [
    {
     "name": "stdout",
     "output_type": "stream",
     "text": [
      "final_price = 110.39612936960104 + 1.2465710428781014 * orig_price  + -0.41801953020942473 * estimate_price\n",
      "RMSE Train: 249.20763577719245\n",
      "RMSE Test: 301.8406675831026\n"
     ]
    }
   ],
   "source": [
    "og_est = bivar_reg(\"orig_price\", \"estimate_price\")\n",
    "print(og_est)"
   ]
  },
  {
   "cell_type": "markdown",
   "metadata": {},
   "source": [
    "### Bivariate Regression: Original Price, Lot Area"
   ]
  },
  {
   "cell_type": "code",
   "execution_count": 494,
   "metadata": {},
   "outputs": [
    {
     "name": "stdout",
     "output_type": "stream",
     "text": [
      "final_price = 99.42349437655363 + 1.181494030541359 * orig_price  + 0.0052558840411756624 * lot_area\n",
      "RMSE Train: 232.1710909896325\n",
      "RMSE Test: 348.52391052160925\n"
     ]
    }
   ],
   "source": [
    "og_lot = bivar_reg(\"orig_price\", \"lot_area\")\n",
    "print(og_lot)"
   ]
  },
  {
   "cell_type": "markdown",
   "metadata": {},
   "source": [
    "## Results\n",
    "5 Univariate regression models were created. "
   ]
  },
  {
   "cell_type": "code",
   "execution_count": 495,
   "metadata": {},
   "outputs": [
    {
     "name": "stdout",
     "output_type": "stream",
     "text": [
      "final_price = 1084.9458870571077 + 0.16785240500596252 * floor_area\n",
      "Training RMSE: 1175.236177874621\n",
      "Testing RMSE: 1123.1661709669902\n"
     ]
    },
    {
     "data": {
      "image/png": "[encoded data removed]",
      "text/plain": [
       "<Figure size 432x288 with 1 Axes>"
      ]
     },
     "metadata": {
      "needs_background": "light"
     },
     "output_type": "display_data"
    },
    {
     "name": "stdout",
     "output_type": "stream",
     "text": [
      "final_price = 1237.0338629794817 + 0.32328414045850223 * lot_area\n",
      "Training RMSE: 1164.5239486831867\n",
      "Testing RMSE: 1281.0805398923997\n"
     ]
    },
    {
     "data": {
      "image/png": "[encoded data removed]",
      "text/plain": [
       "<Figure size 432x288 with 1 Axes>"
      ]
     },
     "metadata": {
      "needs_background": "light"
     },
     "output_type": "display_data"
    },
    {
     "name": "stdout",
     "output_type": "stream",
     "text": [
      "final_price = 3.774100411146372 + 8.694173050390443 * estimate_price\n",
      "Training RMSE: 762.2328103240197\n",
      "Testing RMSE: 686.9839139259333\n"
     ]
    },
    {
     "data": {
      "image/png": "[encoded data removed]",
      "text/plain": [
       "<Figure size 432x288 with 1 Axes>"
      ]
     },
     "metadata": {
      "needs_background": "light"
     },
     "output_type": "display_data"
    },
    {
     "name": "stdout",
     "output_type": "stream",
     "text": [
      "final_price = 956.1886428166473 + 0.8801125305856853 * estimate_price_adj\n",
      "Training RMSE: 1242.5377743729996\n",
      "Testing RMSE: 912.4814568623812\n"
     ]
    },
    {
     "data": {
      "image/png": "[encoded data removed]",
      "text/plain": [
       "<Figure size 432x288 with 1 Axes>"
      ]
     },
     "metadata": {
      "needs_background": "light"
     },
     "output_type": "display_data"
    },
    {
     "name": "stdout",
     "output_type": "stream",
     "text": [
      "final_price = 113.88901499099282 + 1.1642065287873546 * orig_price\n",
      "Training RMSE: 268.54393394203345\n",
      "Testing RMSE: 226.90769436236903\n"
     ]
    },
    {
     "data": {
      "image/png": "[encoded data removed]",
      "text/plain": [
       "<Figure size 432x288 with 1 Axes>"
      ]
     },
     "metadata": {
      "needs_background": "light"
     },
     "output_type": "display_data"
    }
   ],
   "source": [
    "i = \"floor_area\"\n",
    "\n",
    "for i in df.columns.to_list()[1:-1]:\n",
    "    x = np.linspace(df[i].min(),df[i].max(),100)\n",
    "    y = x*univ_results[\"w[1]\"][i]+univ_results[\"w[0]\"][i]\n",
    "    plt.plot(x, y, '-r', label='y=2x+1')\n",
    "    plt.scatter(df[i], df[\"final_price\"], color = \"blue\")\n",
    "    plt.title(\"Univariate Linear Regression: \" + i)\n",
    "    plt.xlabel(i)\n",
    "    plt.ylabel(\"final price\")\n",
    "    print(\"final_price = \" + str(univ_results[\"w[0]\"][i])+ \" + \" + str(univ_results[\"w[1]\"][i])+ \" * \" + i)\n",
    "    print(\"Training RMSE: \" + str(univ_results[\"train_rmse\"][i]))\n",
    "    print(\"Testing RMSE: \" + str(univ_results[\"test_rmse\"][i]))\n",
    "    plt.show()"
   ]
  },
  {
   "cell_type": "markdown",
   "metadata": {},
   "source": [
    "A summary of the five Univariate models"
   ]
  },
  {
   "cell_type": "code",
   "execution_count": 462,
   "metadata": {},
   "outputs": [
    {
     "data": {
      "text/html": [
       "<div>\n",
       "<style scoped>\n",
       "    .dataframe tbody tr th:only-of-type {\n",
       "        vertical-align: middle;\n",
       "    }\n",
       "\n",
       "    .dataframe tbody tr th {\n",
       "        vertical-align: top;\n",
       "    }\n",
       "\n",
       "    .dataframe thead th {\n",
       "        text-align: right;\n",
       "    }\n",
       "</style>\n",
       "<table border=\"1\" class=\"dataframe\">\n",
       "  <thead>\n",
       "    <tr style=\"text-align: right;\">\n",
       "      <th></th>\n",
       "      <th>w[0]</th>\n",
       "      <th>w[1]</th>\n",
       "      <th>train_rmse</th>\n",
       "      <th>test_rmse</th>\n",
       "    </tr>\n",
       "  </thead>\n",
       "  <tbody>\n",
       "    <tr>\n",
       "      <td>floor_area</td>\n",
       "      <td>1084.945887</td>\n",
       "      <td>0.167852</td>\n",
       "      <td>1175.236178</td>\n",
       "      <td>1123.166171</td>\n",
       "    </tr>\n",
       "    <tr>\n",
       "      <td>lot_area</td>\n",
       "      <td>1237.033863</td>\n",
       "      <td>0.323284</td>\n",
       "      <td>1164.523949</td>\n",
       "      <td>1281.080540</td>\n",
       "    </tr>\n",
       "    <tr>\n",
       "      <td>estimate_price</td>\n",
       "      <td>3.774100</td>\n",
       "      <td>8.694173</td>\n",
       "      <td>762.232810</td>\n",
       "      <td>686.983914</td>\n",
       "    </tr>\n",
       "    <tr>\n",
       "      <td>estimate_price_adj</td>\n",
       "      <td>956.188643</td>\n",
       "      <td>0.880113</td>\n",
       "      <td>1242.537774</td>\n",
       "      <td>912.481457</td>\n",
       "    </tr>\n",
       "    <tr>\n",
       "      <td>orig_price</td>\n",
       "      <td>113.889015</td>\n",
       "      <td>1.164207</td>\n",
       "      <td>268.543934</td>\n",
       "      <td>226.907694</td>\n",
       "    </tr>\n",
       "  </tbody>\n",
       "</table>\n",
       "</div>"
      ],
      "text/plain": [
       "                           w[0]      w[1]   train_rmse    test_rmse\n",
       "floor_area          1084.945887  0.167852  1175.236178  1123.166171\n",
       "lot_area            1237.033863  0.323284  1164.523949  1281.080540\n",
       "estimate_price         3.774100  8.694173   762.232810   686.983914\n",
       "estimate_price_adj   956.188643  0.880113  1242.537774   912.481457\n",
       "orig_price           113.889015  1.164207   268.543934   226.907694"
      ]
     },
     "execution_count": 462,
     "metadata": {},
     "output_type": "execute_result"
    }
   ],
   "source": [
    "univ_results"
   ]
  },
  {
   "cell_type": "markdown",
   "metadata": {},
   "source": [
    "From this, two bivariate linear models were created\n",
    "\n",
    "#### Bivariate Model: Original price & Estimate Price "
   ]
  },
  {
   "cell_type": "code",
   "execution_count": 496,
   "metadata": {},
   "outputs": [
    {
     "name": "stdout",
     "output_type": "stream",
     "text": [
      "final_price = 110.39612936960104 + 1.2465710428781014 * orig_price  + -0.41801953020942473 * estimate_price\n",
      "RMSE Train: 249.20763577719245\n",
      "RMSE Test: 301.8406675831026\n"
     ]
    }
   ],
   "source": [
    "print(og_est)"
   ]
  },
  {
   "cell_type": "markdown",
   "metadata": {},
   "source": [
    "#### Bivariate Model: Original Price & Lot Area "
   ]
  },
  {
   "cell_type": "code",
   "execution_count": 497,
   "metadata": {},
   "outputs": [
    {
     "name": "stdout",
     "output_type": "stream",
     "text": [
      "final_price = 99.42349437655363 + 1.181494030541359 * orig_price  + 0.0052558840411756624 * lot_area\n",
      "RMSE Train: 232.1710909896325\n",
      "RMSE Test: 348.52391052160925\n"
     ]
    }
   ],
   "source": [
    "print(og_lot)"
   ]
  },
  {
   "cell_type": "markdown",
   "metadata": {},
   "source": [
    "From the Univariate linear regression models, we can see that the original price of the property before construction is the variable that is the most predictive of the final sale price. This is evident from the low RMSE value in both the training (269.746471) and testing data (219.027607). The RMSE for the training and testing data are relatively similar with the one for the training data being slightly higher. This also indicates that this model is appropriate to the data. \n",
    "\n",
    "When comparing the models with floor area and lot area, we can see that the floor area is more predictive of the final price than lot area. However, there is a large gap between the training and testing data for both of these models, which is an indicator that a linear model may not have been the best way to represent this relationship. Cross validation chooses a random group of points to train the model on. Then the model is evaluated on both the training dataset and the testing dataset. Therefore, if the evaluation varies greatly, it is an indication that depending on which random group of variables are chosen initially, the model will change and thus, is not the best representation of the data. \n",
    "\n",
    "Estimated price seems to be the second best indicator of the final sales price, with a training RMSE of 747.968952 and a testing RMSE of 739.622042. As these values are very close, it seems as though the relationship between estimated construction price and final sale price of the property does have a linear relationship and is a strong predictor. Creating the univariate models also confirmed what we saw in the EDA, that estimate price is a must stronger indicator rather than adjusted estimate price. This is most likely because the final price is not adjusted to a base year and not adjusting the data may be incorporating information related to temporal, economic, or construction trends. \n",
    "\n",
    "I created bivariate models only with original price, I wanted to see whether adding variables would increase the model performance. This is why I decided to only create models with lot_area and estimate_price, as these were the two variables that performed the second and third best. However, from the performance of the two models above, we can see that this is not the case. Adding the variables only increased the testing RMSE and the difference between the training and testing dataset is also an indication that this model is not well suited for this data. I also think that it is quite interesting that even though the lot_are and estimate_price performed quite differently in their own univariate models, when added to a bivariate model with the original price, they performed similarly. "
   ]
  },
  {
   "cell_type": "markdown",
   "metadata": {},
   "source": [
    "## Discussion \n",
    "In conclusion, the original price of a property before construction is the best indicator of the price that that same property will go for sale after construction. Considering factors such as the floor size of the building or the estimated construction cost, does not improve the performance of the model. \n",
    "\n",
    "For future work, it would be interesting to test out different types of models on the variables where it seemed as though linear regression was not the most appropriate model. If we were given more information on the invididual data points, it would have also been a possibility to exclude outliers and see if there were a certain group or type of building that seemed to follow a different pattern, skewing results. Another possible study would be to first perform clustering based on location or construction type, and perform linear regression on the individual clusters. "
   ]
  },
  {
   "cell_type": "markdown",
   "metadata": {},
   "source": [
    "### Works Cited\n",
    "https://archive.ics.uci.edu/ml/datasets/UJIIndoorLoc#\n",
    "\n",
    "https://www.yourownarchitect.com/what-is-the-difference-between-floor-area-and-lot-area/#:~:text=A%20lot%20area%20is%20the,and%20including%20the%20exterior%20walls."
   ]
  }
 ],
 "metadata": {
  "kernelspec": {
   "display_name": "Python 3",
   "language": "python",
   "name": "python3"
  },
  "language_info": {
   "codemirror_mode": {
    "name": "ipython",
    "version": 3
   },
   "file_extension": ".py",
   "mimetype": "text/x-python",
   "name": "python",
   "nbconvert_exporter": "python",
   "pygments_lexer": "ipython3",
   "version": "3.7.4"
  }
 },
 "nbformat": 4,
 "nbformat_minor": 2
}
